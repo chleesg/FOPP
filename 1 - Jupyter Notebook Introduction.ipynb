{
 "cells": [
  {
   "cell_type": "markdown",
   "metadata": {
    "colab_type": "text",
    "id": "EMvqqu4T1VAt"
   },
   "source": [
    "# Jupyter Notebook Start Guide\n",
    "**1.1** <font color=blue>**What is the Jupyter Notebook?**</font> <br>\n",
    "Jupyter Notebook is an open-source web-based IDE that allows us to create and share codes, plots and documents. It help us to streamline the work and enable more productivity and easy collaboration. Using 'RISE' package we can also convert it into slideshow.\n",
    "-  <font color=blue>Notebook Document</font>\n",
    "-  <font color=blue>Jupyter Notebook App</font>\n",
    "-  <font color=blue>Kernel</font>\n",
    "-  <font color=blue>Notebook Dashboard</font>\n",
    "-  <font color=blue>The Cell</font>"
   ]
  },
  {
   "cell_type": "markdown",
   "metadata": {
    "colab_type": "text",
    "id": "qsrsv_ZBeXiF"
   },
   "source": [
    "**1.1.1  <font color=grey>Notebook document: </font>** Notebook documents are produced by the Jupyter Notebook App which contain both both computer code and rich text elements(paragraph, equations, figures, links etc..)."
   ]
  },
  {
   "cell_type": "markdown",
   "metadata": {
    "colab_type": "text",
    "id": "aGzLwWnqeXiG"
   },
   "source": [
    "__1.1.2  <font color=grey>Jupyter Notebook App: </font>__ The Jupyter Notebook App is a server-client application that allows editing and running notebook documents via a web browser. The Jupyter Notebook App can be executed on a local desktop requiring no internet access or installed on a remote server and accessed through the internet. In addition to displaying/editing/running notebook documents, the Jupyter Notebook App has a “Dashboard” (Notebook Dashboard), a “control panel” showing local ﬁles and allowing to open notebook documents or shutting down their kernels."
   ]
  },
  {
   "cell_type": "markdown",
   "metadata": {
    "colab_type": "text",
    "id": "vdyGWC-ceXiI"
   },
   "source": [
    "__1.1.3  <font color=grey>Kernel: </font>__ The Jupyter notebook kernel is a \"computational engine\" that executes the code contained in a Notebook document. Note that the RAM is not released until the kernel is shut-down. "
   ]
  },
  {
   "cell_type": "markdown",
   "metadata": {
    "colab_type": "text",
    "id": "uSEVh3WMeXiJ"
   },
   "source": [
    "__1.1.4  <font color=grey>Notebook Dashboard: </font>__ The Notebook Dashboard is the component which is shown ﬁrst when launching Jupyter Notebook App. The Notebook Dashboard is mainly used to open notebook documents, and to manage the running kernels (visualize and shutdown)."
   ]
  },
  {
   "cell_type": "markdown",
   "metadata": {
    "colab_type": "text",
    "id": "5iOJ11f_eXiK"
   },
   "source": [
    "__1.1.5  <font color=grey>The Cell: </font>__ The gray boxes are called cells.\n",
    "A cell can have its type changed. By default its type is `Code`, which means Python code. To produce a text paragraphs, you should use `Markdown`."
   ]
  },
  {
   "cell_type": "code",
   "execution_count": null,
   "metadata": {
    "colab": {
     "base_uri": "https://localhost:8080/",
     "height": 54
    },
    "colab_type": "code",
    "executionInfo": {
     "elapsed": 596,
     "status": "ok",
     "timestamp": 1557542570629,
     "user": {
      "displayName": "Desmond Sek",
      "photoUrl": "https://lh3.googleusercontent.com/-kpaWQQmtEpQ/AAAAAAAAAAI/AAAAAAAAc5k/V4TZA_YKVSI/s64/photo.jpg",
      "userId": "15004601375355093954"
     },
     "user_tz": -480
    },
    "id": "ZEGBRuKjeXiL",
    "outputId": "694cd8b3-92fc-492d-aa8e-42e4b17794fd"
   },
   "outputs": [],
   "source": [
    "This is a description written in a code cell. \n",
    "Hence, upon executing it, you will get error. \n",
    "\n",
    "But, if you convert this to a Markdown/Text cell, \n",
    "you will not get the error.\n",
    "\n",
    "Try it out."
   ]
  },
  {
   "cell_type": "code",
   "execution_count": null,
   "metadata": {},
   "outputs": [],
   "source": [
    "# This is a code cell. Next line will show result upon execution.\n",
    "\n",
    "5 + 5"
   ]
  },
  {
   "cell_type": "markdown",
   "metadata": {
    "colab_type": "text",
    "collapsed": true,
    "id": "5DNHw4Oh1VBF"
   },
   "source": [
    "**1.2 <font color=blue>Running cells</font> <br>** \n",
    "We can type code in a cell, but until we push the `play` button at the top or press `Shift+Enter` or `Control+Enter` it has not been \"run.\" We can check this because there will not be a number in the prompt to the side. When a cell has a number to the side that means that the cell has been **executed**. That number also tells you the order that the cell was executed in. <br>\n",
    "**Sequence of output is in the same order as of the sequence of the execution of the codes.**"
   ]
  },
  {
   "cell_type": "markdown",
   "metadata": {},
   "source": [
    "The below code cell give give error. **Why?**\n",
    "\n",
    "This is because we are asking our Python notebook/kernel to print the value of y before even telling it what is y. "
   ]
  },
  {
   "cell_type": "code",
   "execution_count": null,
   "metadata": {
    "colab": {
     "base_uri": "https://localhost:8080/",
     "height": 34
    },
    "colab_type": "code",
    "executionInfo": {
     "elapsed": 612,
     "status": "ok",
     "timestamp": 1557542639085,
     "user": {
      "displayName": "Desmond Sek",
      "photoUrl": "https://lh3.googleusercontent.com/-kpaWQQmtEpQ/AAAAAAAAAAI/AAAAAAAAc5k/V4TZA_YKVSI/s64/photo.jpg",
      "userId": "15004601375355093954"
     },
     "user_tz": -480
    },
    "id": "1eMQGX-W1VBJ",
    "outputId": "3802276e-9e0d-4f6c-df15-c221401707f9"
   },
   "outputs": [],
   "source": [
    "y    # error because Python doesn't know yet what is the value of y\n",
    "\n",
    "y = 10  # we are asking Python to remember the value of y."
   ]
  },
  {
   "cell_type": "markdown",
   "metadata": {},
   "source": [
    "**TO DO**\n",
    "\n",
    "Create a new code cell, type the below code and execute/run it:\n",
    "\n",
    "`\n",
    "y = 10\n",
    "y\n",
    "`"
   ]
  },
  {
   "cell_type": "code",
   "execution_count": null,
   "metadata": {},
   "outputs": [],
   "source": []
  },
  {
   "cell_type": "markdown",
   "metadata": {
    "colab_type": "text",
    "collapsed": true,
    "id": "5QivPt9B1VB1"
   },
   "source": [
    "**1.3 <font color=blue>Adding comments</font> <br>**\n",
    "\n",
    "In a **code cell**, ANYTHING written after **#** will become comment in that line only.\n",
    "\n",
    "__1.3.1  <font color=grey> Commenting individual lines: </font>__\n",
    "- Go at the beginning of a line and type #\n",
    "- Go to anywhere in a line and use Control/Command + /"
   ]
  },
  {
   "cell_type": "code",
   "execution_count": null,
   "metadata": {
    "colab": {
     "base_uri": "https://localhost:8080/",
     "height": 163
    },
    "colab_type": "code",
    "executionInfo": {
     "elapsed": 820,
     "status": "error",
     "timestamp": 1550508003488,
     "user": {
      "displayName": "A M Aditya",
      "photoUrl": "https://lh3.googleusercontent.com/-WI8p7JNWLic/AAAAAAAAAAI/AAAAAAAAAfs/vS8ElgH0p0c/s64/photo.jpg",
      "userId": "15341571102300750919"
     },
     "user_tz": -480
    },
    "id": "PpU1AGX91VB5",
    "outputId": "dadb5a0a-d03e-422d-e814-956ca1661fb4"
   },
   "outputs": [],
   "source": []
  },
  {
   "cell_type": "markdown",
   "metadata": {
    "colab_type": "text",
    "id": "yi0nKR-l1VCS"
   },
   "source": [
    "__1.3.2  <font color=grey> Commenting multiple lines: </font>__ You can also easily comment multiple lines. Just select multiple lines with your cursor and then press `Cmd and /` (`Ctrl and /` for Windows) <br>\n",
    "(You can uncomment multiple lines with the same key command)"
   ]
  },
  {
   "cell_type": "code",
   "execution_count": null,
   "metadata": {
    "colab": {},
    "colab_type": "code",
    "id": "DAAp6Yct1VCV"
   },
   "outputs": [],
   "source": []
  },
  {
   "cell_type": "markdown",
   "metadata": {
    "colab_type": "text",
    "id": "4orH6a-K1VCl"
   },
   "source": [
    "There are more key commands if you're interested in using them.\n",
    "To see the list of keyboard commands just press `Esc` and then `h`, that will bring up the entire list of keyboard commands.\n",
    "But for now, that's more than enough to get going. Let's learn Python!"
   ]
  }
 ],
 "metadata": {
  "colab": {
   "collapsed_sections": [],
   "name": "Day1_1_Jupyter-Notebook-Introduction.ipynb",
   "provenance": []
  },
  "kernelspec": {
   "display_name": "Python 3 (ipykernel)",
   "language": "python",
   "name": "python3"
  },
  "language_info": {
   "codemirror_mode": {
    "name": "ipython",
    "version": 3
   },
   "file_extension": ".py",
   "mimetype": "text/x-python",
   "name": "python",
   "nbconvert_exporter": "python",
   "pygments_lexer": "ipython3",
   "version": "3.9.12"
  }
 },
 "nbformat": 4,
 "nbformat_minor": 1
}
